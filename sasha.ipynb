{
 "cells": [
  {
   "cell_type": "code",
   "execution_count": 1,
   "id": "5f9947e3",
   "metadata": {},
   "outputs": [],
   "source": [
    "import numpy as np\n",
    "import pandas as pd\n",
    "import seaborn as sns\n",
    "import matplotlib.pyplot as plt"
   ]
  },
  {
   "cell_type": "code",
   "execution_count": 9,
   "id": "b92b6f9d",
   "metadata": {},
   "outputs": [],
   "source": [
    "from rffi_utils import display_data,\\\n",
    "    show_correlation, get_boxplot"
   ]
  },
  {
   "cell_type": "code",
   "execution_count": 6,
   "id": "87dab485",
   "metadata": {},
   "outputs": [],
   "source": [
    "df = pd.read_csv(r'D:\\WorkE\\meteobase\\sasha\\P_new.csv', sep=';')"
   ]
  },
  {
   "cell_type": "code",
   "execution_count": 10,
   "id": "bae2f2a8",
   "metadata": {},
   "outputs": [
    {
     "data": {
      "text/html": [
       "<div>\n",
       "<style scoped>\n",
       "    .dataframe tbody tr th:only-of-type {\n",
       "        vertical-align: middle;\n",
       "    }\n",
       "\n",
       "    .dataframe tbody tr th {\n",
       "        vertical-align: top;\n",
       "    }\n",
       "\n",
       "    .dataframe thead th {\n",
       "        text-align: right;\n",
       "    }\n",
       "</style>\n",
       "<table border=\"1\" class=\"dataframe\">\n",
       "  <thead>\n",
       "    <tr style=\"text-align: right;\">\n",
       "      <th></th>\n",
       "      <th>Тип</th>\n",
       "      <th>Общ.кол</th>\n",
       "      <th>% пропусков</th>\n",
       "      <th>Кол-во уник.значений</th>\n",
       "    </tr>\n",
       "  </thead>\n",
       "  <tbody>\n",
       "    <tr>\n",
       "      <th>T</th>\n",
       "      <td>float64</td>\n",
       "      <td>17283</td>\n",
       "      <td>0.0</td>\n",
       "      <td>8762</td>\n",
       "    </tr>\n",
       "    <tr>\n",
       "      <th>T_mod1</th>\n",
       "      <td>float64</td>\n",
       "      <td>17283</td>\n",
       "      <td>0.0</td>\n",
       "      <td>7227</td>\n",
       "    </tr>\n",
       "    <tr>\n",
       "      <th>T_mod2</th>\n",
       "      <td>float64</td>\n",
       "      <td>17283</td>\n",
       "      <td>0.0</td>\n",
       "      <td>7229</td>\n",
       "    </tr>\n",
       "    <tr>\n",
       "      <th>T_mod3</th>\n",
       "      <td>float64</td>\n",
       "      <td>17283</td>\n",
       "      <td>0.0</td>\n",
       "      <td>7226</td>\n",
       "    </tr>\n",
       "    <tr>\n",
       "      <th>T_mod4</th>\n",
       "      <td>float64</td>\n",
       "      <td>17283</td>\n",
       "      <td>0.0</td>\n",
       "      <td>7229</td>\n",
       "    </tr>\n",
       "    <tr>\n",
       "      <th>T_mod5</th>\n",
       "      <td>float64</td>\n",
       "      <td>17283</td>\n",
       "      <td>0.0</td>\n",
       "      <td>7225</td>\n",
       "    </tr>\n",
       "  </tbody>\n",
       "</table>\n",
       "</div>"
      ],
      "text/plain": [
       "            Тип  Общ.кол  % пропусков  Кол-во уник.значений\n",
       "T       float64    17283          0.0                  8762\n",
       "T_mod1  float64    17283          0.0                  7227\n",
       "T_mod2  float64    17283          0.0                  7229\n",
       "T_mod3  float64    17283          0.0                  7226\n",
       "T_mod4  float64    17283          0.0                  7229\n",
       "T_mod5  float64    17283          0.0                  7225"
      ]
     },
     "metadata": {},
     "output_type": "display_data"
    }
   ],
   "source": [
    "display_data(df)"
   ]
  },
  {
   "cell_type": "code",
   "execution_count": 23,
   "id": "09541e8a",
   "metadata": {},
   "outputs": [
    {
     "data": {
      "text/html": [
       "<div>\n",
       "<style scoped>\n",
       "    .dataframe tbody tr th:only-of-type {\n",
       "        vertical-align: middle;\n",
       "    }\n",
       "\n",
       "    .dataframe tbody tr th {\n",
       "        vertical-align: top;\n",
       "    }\n",
       "\n",
       "    .dataframe thead th {\n",
       "        text-align: right;\n",
       "    }\n",
       "</style>\n",
       "<table border=\"1\" class=\"dataframe\">\n",
       "  <thead>\n",
       "    <tr style=\"text-align: right;\">\n",
       "      <th></th>\n",
       "      <th>T</th>\n",
       "      <th>T_mod1</th>\n",
       "      <th>T_mod2</th>\n",
       "      <th>T_mod3</th>\n",
       "      <th>T_mod4</th>\n",
       "      <th>T_mod5</th>\n",
       "    </tr>\n",
       "  </thead>\n",
       "  <tbody>\n",
       "    <tr>\n",
       "      <th>count</th>\n",
       "      <td>17283.000000</td>\n",
       "      <td>17283.000000</td>\n",
       "      <td>17283.000000</td>\n",
       "      <td>17283.000000</td>\n",
       "      <td>17283.000000</td>\n",
       "      <td>17283.000000</td>\n",
       "    </tr>\n",
       "    <tr>\n",
       "      <th>mean</th>\n",
       "      <td>28.071361</td>\n",
       "      <td>30.532621</td>\n",
       "      <td>30.440208</td>\n",
       "      <td>30.305777</td>\n",
       "      <td>30.121499</td>\n",
       "      <td>30.705450</td>\n",
       "    </tr>\n",
       "    <tr>\n",
       "      <th>std</th>\n",
       "      <td>56.649230</td>\n",
       "      <td>62.029153</td>\n",
       "      <td>61.853532</td>\n",
       "      <td>61.445219</td>\n",
       "      <td>60.994481</td>\n",
       "      <td>62.480130</td>\n",
       "    </tr>\n",
       "    <tr>\n",
       "      <th>min</th>\n",
       "      <td>-0.229740</td>\n",
       "      <td>0.000000</td>\n",
       "      <td>0.000000</td>\n",
       "      <td>0.000000</td>\n",
       "      <td>0.000000</td>\n",
       "      <td>0.000000</td>\n",
       "    </tr>\n",
       "    <tr>\n",
       "      <th>25%</th>\n",
       "      <td>0.000000</td>\n",
       "      <td>0.000000</td>\n",
       "      <td>0.000000</td>\n",
       "      <td>0.000000</td>\n",
       "      <td>0.000000</td>\n",
       "      <td>0.000000</td>\n",
       "    </tr>\n",
       "    <tr>\n",
       "      <th>50%</th>\n",
       "      <td>0.000000</td>\n",
       "      <td>0.000000</td>\n",
       "      <td>0.000000</td>\n",
       "      <td>0.000000</td>\n",
       "      <td>0.000000</td>\n",
       "      <td>0.000000</td>\n",
       "    </tr>\n",
       "    <tr>\n",
       "      <th>75%</th>\n",
       "      <td>20.023385</td>\n",
       "      <td>20.133220</td>\n",
       "      <td>20.110770</td>\n",
       "      <td>20.107765</td>\n",
       "      <td>20.076695</td>\n",
       "      <td>20.148755</td>\n",
       "    </tr>\n",
       "    <tr>\n",
       "      <th>max</th>\n",
       "      <td>272.085320</td>\n",
       "      <td>300.298650</td>\n",
       "      <td>300.776370</td>\n",
       "      <td>295.391980</td>\n",
       "      <td>291.296390</td>\n",
       "      <td>303.409860</td>\n",
       "    </tr>\n",
       "  </tbody>\n",
       "</table>\n",
       "</div>"
      ],
      "text/plain": [
       "                  T        T_mod1        T_mod2        T_mod3        T_mod4  \\\n",
       "count  17283.000000  17283.000000  17283.000000  17283.000000  17283.000000   \n",
       "mean      28.071361     30.532621     30.440208     30.305777     30.121499   \n",
       "std       56.649230     62.029153     61.853532     61.445219     60.994481   \n",
       "min       -0.229740      0.000000      0.000000      0.000000      0.000000   \n",
       "25%        0.000000      0.000000      0.000000      0.000000      0.000000   \n",
       "50%        0.000000      0.000000      0.000000      0.000000      0.000000   \n",
       "75%       20.023385     20.133220     20.110770     20.107765     20.076695   \n",
       "max      272.085320    300.298650    300.776370    295.391980    291.296390   \n",
       "\n",
       "             T_mod5  \n",
       "count  17283.000000  \n",
       "mean      30.705450  \n",
       "std       62.480130  \n",
       "min        0.000000  \n",
       "25%        0.000000  \n",
       "50%        0.000000  \n",
       "75%       20.148755  \n",
       "max      303.409860  "
      ]
     },
     "execution_count": 23,
     "metadata": {},
     "output_type": "execute_result"
    }
   ],
   "source": [
    "# Статистики по исходным данным\n",
    "df.describe()"
   ]
  },
  {
   "cell_type": "code",
   "execution_count": 44,
   "id": "91932fab",
   "metadata": {},
   "outputs": [],
   "source": [
    "# Убираем нулевые значения\n",
    "df2 = df[df['T']>1].copy()"
   ]
  },
  {
   "cell_type": "code",
   "execution_count": 45,
   "id": "6636e41f",
   "metadata": {},
   "outputs": [
    {
     "data": {
      "text/html": [
       "<div>\n",
       "<style scoped>\n",
       "    .dataframe tbody tr th:only-of-type {\n",
       "        vertical-align: middle;\n",
       "    }\n",
       "\n",
       "    .dataframe tbody tr th {\n",
       "        vertical-align: top;\n",
       "    }\n",
       "\n",
       "    .dataframe thead th {\n",
       "        text-align: right;\n",
       "    }\n",
       "</style>\n",
       "<table border=\"1\" class=\"dataframe\">\n",
       "  <thead>\n",
       "    <tr style=\"text-align: right;\">\n",
       "      <th></th>\n",
       "      <th>T</th>\n",
       "      <th>T_mod1</th>\n",
       "      <th>T_mod2</th>\n",
       "      <th>T_mod3</th>\n",
       "      <th>T_mod4</th>\n",
       "      <th>T_mod5</th>\n",
       "    </tr>\n",
       "  </thead>\n",
       "  <tbody>\n",
       "    <tr>\n",
       "      <th>count</th>\n",
       "      <td>7457.000000</td>\n",
       "      <td>7457.000000</td>\n",
       "      <td>7457.000000</td>\n",
       "      <td>7457.000000</td>\n",
       "      <td>7457.000000</td>\n",
       "      <td>7457.000000</td>\n",
       "    </tr>\n",
       "    <tr>\n",
       "      <th>mean</th>\n",
       "      <td>65.009635</td>\n",
       "      <td>70.751292</td>\n",
       "      <td>70.537114</td>\n",
       "      <td>70.225543</td>\n",
       "      <td>69.798452</td>\n",
       "      <td>71.151854</td>\n",
       "    </tr>\n",
       "    <tr>\n",
       "      <th>std</th>\n",
       "      <td>70.979416</td>\n",
       "      <td>77.927672</td>\n",
       "      <td>77.714204</td>\n",
       "      <td>77.121594</td>\n",
       "      <td>76.510265</td>\n",
       "      <td>78.552892</td>\n",
       "    </tr>\n",
       "    <tr>\n",
       "      <th>min</th>\n",
       "      <td>1.000760</td>\n",
       "      <td>0.000000</td>\n",
       "      <td>0.000000</td>\n",
       "      <td>0.000000</td>\n",
       "      <td>0.000000</td>\n",
       "      <td>0.000000</td>\n",
       "    </tr>\n",
       "    <tr>\n",
       "      <th>25%</th>\n",
       "      <td>7.965650</td>\n",
       "      <td>6.954420</td>\n",
       "      <td>6.947680</td>\n",
       "      <td>6.950100</td>\n",
       "      <td>6.945490</td>\n",
       "      <td>6.957150</td>\n",
       "    </tr>\n",
       "    <tr>\n",
       "      <th>50%</th>\n",
       "      <td>31.510360</td>\n",
       "      <td>34.842680</td>\n",
       "      <td>34.770180</td>\n",
       "      <td>34.781540</td>\n",
       "      <td>34.734870</td>\n",
       "      <td>34.878360</td>\n",
       "    </tr>\n",
       "    <tr>\n",
       "      <th>75%</th>\n",
       "      <td>110.157670</td>\n",
       "      <td>120.867340</td>\n",
       "      <td>120.417710</td>\n",
       "      <td>120.110280</td>\n",
       "      <td>119.711600</td>\n",
       "      <td>121.383800</td>\n",
       "    </tr>\n",
       "    <tr>\n",
       "      <th>max</th>\n",
       "      <td>272.085320</td>\n",
       "      <td>300.298650</td>\n",
       "      <td>300.776370</td>\n",
       "      <td>295.391980</td>\n",
       "      <td>291.296390</td>\n",
       "      <td>303.409860</td>\n",
       "    </tr>\n",
       "  </tbody>\n",
       "</table>\n",
       "</div>"
      ],
      "text/plain": [
       "                 T       T_mod1       T_mod2       T_mod3       T_mod4  \\\n",
       "count  7457.000000  7457.000000  7457.000000  7457.000000  7457.000000   \n",
       "mean     65.009635    70.751292    70.537114    70.225543    69.798452   \n",
       "std      70.979416    77.927672    77.714204    77.121594    76.510265   \n",
       "min       1.000760     0.000000     0.000000     0.000000     0.000000   \n",
       "25%       7.965650     6.954420     6.947680     6.950100     6.945490   \n",
       "50%      31.510360    34.842680    34.770180    34.781540    34.734870   \n",
       "75%     110.157670   120.867340   120.417710   120.110280   119.711600   \n",
       "max     272.085320   300.298650   300.776370   295.391980   291.296390   \n",
       "\n",
       "            T_mod5  \n",
       "count  7457.000000  \n",
       "mean     71.151854  \n",
       "std      78.552892  \n",
       "min       0.000000  \n",
       "25%       6.957150  \n",
       "50%      34.878360  \n",
       "75%     121.383800  \n",
       "max     303.409860  "
      ]
     },
     "execution_count": 45,
     "metadata": {},
     "output_type": "execute_result"
    }
   ],
   "source": [
    "# Cтатистики по преобразованному набору данных\n",
    "df2.describe()"
   ]
  },
  {
   "cell_type": "markdown",
   "id": "d7c40c10",
   "metadata": {},
   "source": [
    "Распределения нессиметричны: медиана и среднее не совпадают"
   ]
  },
  {
   "cell_type": "code",
   "execution_count": 46,
   "id": "2f21d725",
   "metadata": {},
   "outputs": [
    {
     "data": {
      "text/plain": [
       "<AxesSubplot: >"
      ]
     },
     "execution_count": 46,
     "metadata": {},
     "output_type": "execute_result"
    },
    {
     "data": {
      "image/png": "[encoded data removed]",
      "text/plain": [
       "<Figure size 640x480 with 1 Axes>"
      ]
     },
     "metadata": {},
     "output_type": "display_data"
    }
   ],
   "source": [
    "df2.boxplot(column=list(df2.columns))"
   ]
  },
  {
   "cell_type": "code",
   "execution_count": 47,
   "id": "eba62428",
   "metadata": {},
   "outputs": [
    {
     "data": {
      "text/plain": [
       "<AxesSubplot: >"
      ]
     },
     "execution_count": 47,
     "metadata": {},
     "output_type": "execute_result"
    },
    {
     "data": {
      "image/png": "[encoded data removed]",
      "text/plain": [
       "<Figure size 640x480 with 1 Axes>"
      ]
     },
     "metadata": {},
     "output_type": "display_data"
    }
   ],
   "source": [
    "# Распределение по эксперименту\n",
    "df2['T'].hist(bins=100)"
   ]
  },
  {
   "cell_type": "code",
   "execution_count": 48,
   "id": "880ea128",
   "metadata": {},
   "outputs": [
    {
     "data": {
      "text/plain": [
       "<AxesSubplot: >"
      ]
     },
     "execution_count": 48,
     "metadata": {},
     "output_type": "execute_result"
    },
    {
     "data": {
      "image/png": "[encoded data removed]",
      "text/plain": [
       "<Figure size 640x480 with 1 Axes>"
      ]
     },
     "metadata": {},
     "output_type": "display_data"
    }
   ],
   "source": [
    "df2[df2['T']>10]['T'].hist(bins=100)"
   ]
  },
  {
   "cell_type": "code",
   "execution_count": 28,
   "id": "8fb34061",
   "metadata": {},
   "outputs": [],
   "source": [
    "import scipy"
   ]
  },
  {
   "cell_type": "code",
   "execution_count": 49,
   "id": "947d8a0e",
   "metadata": {},
   "outputs": [],
   "source": [
    "df3 = df2.copy()"
   ]
  },
  {
   "cell_type": "code",
   "execution_count": 50,
   "id": "6e4eaef7",
   "metadata": {},
   "outputs": [],
   "source": [
    "# Замена выбросов\n",
    "def replace_jump_out(dframe, col):\n",
    "    iqr = scipy.stats.iqr(dframe[col])\n",
    "    val = np.percentile(dframe[col],75) + 1.5*iqr\n",
    "    val2 = dframe[col].median()\n",
    "    dframe[col] = np.where(dframe[col]>val,val2,dframe[col])\n",
    "    "
   ]
  },
  {
   "cell_type": "code",
   "execution_count": 51,
   "id": "898767e4",
   "metadata": {},
   "outputs": [],
   "source": [
    "for col in list(df3.columns):\n",
    "    replace_jump_out(df3, col)"
   ]
  },
  {
   "cell_type": "code",
   "execution_count": 52,
   "id": "6f793005",
   "metadata": {},
   "outputs": [
    {
     "data": {
      "text/plain": [
       "<AxesSubplot: >"
      ]
     },
     "execution_count": 52,
     "metadata": {},
     "output_type": "execute_result"
    },
    {
     "data": {
      "image/png": "[encoded data removed]",
      "text/plain": [
       "<Figure size 640x480 with 1 Axes>"
      ]
     },
     "metadata": {},
     "output_type": "display_data"
    }
   ],
   "source": [
    "df3['T'].hist(bins=100)"
   ]
  },
  {
   "cell_type": "code",
   "execution_count": 53,
   "id": "845569e7",
   "metadata": {},
   "outputs": [
    {
     "data": {
      "text/plain": [
       "<AxesSubplot: >"
      ]
     },
     "execution_count": 53,
     "metadata": {},
     "output_type": "execute_result"
    },
    {
     "data": {
      "image/png": "[encoded data removed]",
      "text/plain": [
       "<Figure size 640x480 with 1 Axes>"
      ]
     },
     "metadata": {},
     "output_type": "display_data"
    }
   ],
   "source": [
    "df3.boxplot(column=list(df3.columns))"
   ]
  },
  {
   "cell_type": "code",
   "execution_count": 54,
   "id": "630c134e",
   "metadata": {},
   "outputs": [
    {
     "data": {
      "text/html": [
       "<div>\n",
       "<style scoped>\n",
       "    .dataframe tbody tr th:only-of-type {\n",
       "        vertical-align: middle;\n",
       "    }\n",
       "\n",
       "    .dataframe tbody tr th {\n",
       "        vertical-align: top;\n",
       "    }\n",
       "\n",
       "    .dataframe thead th {\n",
       "        text-align: right;\n",
       "    }\n",
       "</style>\n",
       "<table border=\"1\" class=\"dataframe\">\n",
       "  <thead>\n",
       "    <tr style=\"text-align: right;\">\n",
       "      <th></th>\n",
       "      <th>T</th>\n",
       "      <th>T_mod1</th>\n",
       "      <th>T_mod2</th>\n",
       "      <th>T_mod3</th>\n",
       "      <th>T_mod4</th>\n",
       "      <th>T_mod5</th>\n",
       "    </tr>\n",
       "  </thead>\n",
       "  <tbody>\n",
       "    <tr>\n",
       "      <th>count</th>\n",
       "      <td>7457.000000</td>\n",
       "      <td>7457.000000</td>\n",
       "      <td>7457.000000</td>\n",
       "      <td>7457.000000</td>\n",
       "      <td>7457.000000</td>\n",
       "      <td>7457.000000</td>\n",
       "    </tr>\n",
       "    <tr>\n",
       "      <th>mean</th>\n",
       "      <td>64.757273</td>\n",
       "      <td>70.646301</td>\n",
       "      <td>70.397229</td>\n",
       "      <td>70.156303</td>\n",
       "      <td>69.764046</td>\n",
       "      <td>71.010751</td>\n",
       "    </tr>\n",
       "    <tr>\n",
       "      <th>std</th>\n",
       "      <td>70.679149</td>\n",
       "      <td>77.800030</td>\n",
       "      <td>77.543490</td>\n",
       "      <td>77.037427</td>\n",
       "      <td>76.468322</td>\n",
       "      <td>78.381418</td>\n",
       "    </tr>\n",
       "    <tr>\n",
       "      <th>min</th>\n",
       "      <td>1.000760</td>\n",
       "      <td>0.000000</td>\n",
       "      <td>0.000000</td>\n",
       "      <td>0.000000</td>\n",
       "      <td>0.000000</td>\n",
       "      <td>0.000000</td>\n",
       "    </tr>\n",
       "    <tr>\n",
       "      <th>25%</th>\n",
       "      <td>7.965650</td>\n",
       "      <td>6.954420</td>\n",
       "      <td>6.947680</td>\n",
       "      <td>6.950100</td>\n",
       "      <td>6.945490</td>\n",
       "      <td>6.957150</td>\n",
       "    </tr>\n",
       "    <tr>\n",
       "      <th>50%</th>\n",
       "      <td>31.510360</td>\n",
       "      <td>34.842680</td>\n",
       "      <td>34.770180</td>\n",
       "      <td>34.781540</td>\n",
       "      <td>34.734870</td>\n",
       "      <td>34.878360</td>\n",
       "    </tr>\n",
       "    <tr>\n",
       "      <th>75%</th>\n",
       "      <td>109.748030</td>\n",
       "      <td>120.815500</td>\n",
       "      <td>120.199360</td>\n",
       "      <td>120.042890</td>\n",
       "      <td>119.639060</td>\n",
       "      <td>121.205330</td>\n",
       "    </tr>\n",
       "    <tr>\n",
       "      <th>max</th>\n",
       "      <td>262.651540</td>\n",
       "      <td>291.597960</td>\n",
       "      <td>290.271240</td>\n",
       "      <td>289.400280</td>\n",
       "      <td>288.575610</td>\n",
       "      <td>290.984830</td>\n",
       "    </tr>\n",
       "  </tbody>\n",
       "</table>\n",
       "</div>"
      ],
      "text/plain": [
       "                 T       T_mod1       T_mod2       T_mod3       T_mod4  \\\n",
       "count  7457.000000  7457.000000  7457.000000  7457.000000  7457.000000   \n",
       "mean     64.757273    70.646301    70.397229    70.156303    69.764046   \n",
       "std      70.679149    77.800030    77.543490    77.037427    76.468322   \n",
       "min       1.000760     0.000000     0.000000     0.000000     0.000000   \n",
       "25%       7.965650     6.954420     6.947680     6.950100     6.945490   \n",
       "50%      31.510360    34.842680    34.770180    34.781540    34.734870   \n",
       "75%     109.748030   120.815500   120.199360   120.042890   119.639060   \n",
       "max     262.651540   291.597960   290.271240   289.400280   288.575610   \n",
       "\n",
       "            T_mod5  \n",
       "count  7457.000000  \n",
       "mean     71.010751  \n",
       "std      78.381418  \n",
       "min       0.000000  \n",
       "25%       6.957150  \n",
       "50%      34.878360  \n",
       "75%     121.205330  \n",
       "max     290.984830  "
      ]
     },
     "execution_count": 54,
     "metadata": {},
     "output_type": "execute_result"
    }
   ],
   "source": [
    "df3.describe()"
   ]
  },
  {
   "cell_type": "code",
   "execution_count": null,
   "id": "545cf9c6",
   "metadata": {},
   "outputs": [],
   "source": []
  }
 ],
 "metadata": {
  "kernelspec": {
   "display_name": "Python 3 (ipykernel)",
   "language": "python",
   "name": "python3"
  },
  "language_info": {
   "codemirror_mode": {
    "name": "ipython",
    "version": 3
   },
   "file_extension": ".py",
   "mimetype": "text/x-python",
   "name": "python",
   "nbconvert_exporter": "python",
   "pygments_lexer": "ipython3",
   "version": "3.9.16"
  }
 },
 "nbformat": 4,
 "nbformat_minor": 5
}
